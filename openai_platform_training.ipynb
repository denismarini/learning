{
  "nbformat": 4,
  "nbformat_minor": 0,
  "metadata": {
    "colab": {
      "provenance": [],
      "toc_visible": true,
      "authorship_tag": "ABX9TyOllxaiQQ8+Muz2i+Opifjf",
      "include_colab_link": true
    },
    "kernelspec": {
      "name": "python3",
      "display_name": "Python 3"
    },
    "language_info": {
      "name": "python"
    }
  },
  "cells": [
    {
      "cell_type": "markdown",
      "metadata": {
        "id": "view-in-github",
        "colab_type": "text"
      },
      "source": [
        "<a href=\"https://colab.research.google.com/github/denismarini/learning/blob/main/openai_platform_training.ipynb\" target=\"_parent\"><img src=\"https://colab.research.google.com/assets/colab-badge.svg\" alt=\"Open In Colab\"/></a>"
      ]
    },
    {
      "cell_type": "code",
      "source": [
        "# @title Setting\n",
        "# install openAI lib and import openAI\n",
        "# import open_api_key\n",
        "\n",
        "!pip install openai\n",
        "\n",
        "from google.colab import userdata\n",
        "open_api_key = userdata.get('openai_api_key')\n",
        "# install openAI lib and import openAI\n",
        "# import open_api_key\n",
        "\n",
        "!pip install openai\n",
        "\n",
        "from google.colab import userdata\n",
        "open_api_key = userdata.get('openai_api_key')"
      ],
      "metadata": {
        "id": "zin5RSlI9pvj"
      },
      "execution_count": null,
      "outputs": []
    },
    {
      "cell_type": "markdown",
      "source": [
        "# Completion"
      ],
      "metadata": {
        "id": "v5XKOVuO29KB"
      }
    },
    {
      "cell_type": "code",
      "source": [
        "# @title System, User, Assistant\n",
        "from openai import OpenAI\n",
        "\n",
        "client = OpenAI(api_key=open_api_key)\n",
        "\n",
        "completion = client.chat.completions.create(\n",
        "  model=\"gpt-3.5-turbo-0125\",\n",
        "  messages=[\n",
        "    {\"role\": \"system\", \"content\": \"You are a helpful assistant.\"},\n",
        "    {\"role\": \"user\", \"content\": \"Who won the world series in 2020?\"},\n",
        "    {\"role\": \"assistant\", \"content\": \"The Los Angeles Dodgers won the World Series in 2020.\"},\n",
        "    {\"role\": \"user\", \"content\": \"Where was it played?\"}\n",
        "  ],\n",
        "  max_tokens=20,\n",
        "  temperature=0\n",
        ")\n",
        "\n",
        "print(completion.choices[0].message)\n"
      ],
      "metadata": {
        "colab": {
          "base_uri": "https://localhost:8080/"
        },
        "collapsed": true,
        "id": "4LgARYMFBYKk",
        "outputId": "386f5de7-70d9-48c7-d084-94a94e652270"
      },
      "execution_count": null,
      "outputs": [
        {
          "output_type": "stream",
          "name": "stdout",
          "text": [
            "ChatCompletionMessage(content='The 2020 World Series was played at Globe Life Field in Arlington, Texas.', role='assistant', function_call=None, tool_calls=None)\n"
          ]
        }
      ]
    },
    {
      "cell_type": "code",
      "source": [
        "# @title Stream\n",
        "\n",
        "from openai import OpenAI\n",
        "client = OpenAI(api_key=open_api_key)\n",
        "\n",
        "completion = client.chat.completions.create(\n",
        "  model=\"gpt-3.5-turbo\",\n",
        "  messages=[\n",
        "    {\"role\": \"system\", \"content\": \"You are a helpful assistant.\"},\n",
        "    {\"role\": \"user\", \"content\": \"Hello!\"}\n",
        "  ],\n",
        "  stream=True\n",
        ")\n",
        "\n",
        "for chunk in completion:\n",
        "  print(chunk.choices[0].delta.content, end= \"\")\n"
      ],
      "metadata": {
        "colab": {
          "base_uri": "https://localhost:8080/"
        },
        "id": "q6R6RLMVq4h5",
        "outputId": "ee6ab068-591e-4299-fa74-8dede44e8a0c",
        "cellView": "form"
      },
      "execution_count": null,
      "outputs": [
        {
          "output_type": "stream",
          "name": "stdout",
          "text": [
            "Hello! How can I assist you today?None"
          ]
        }
      ]
    },
    {
      "cell_type": "code",
      "source": [
        "# @title Tokens\n",
        "from openai import OpenAI\n",
        "client = OpenAI(api_key=open_api_key)\n",
        "\n",
        "completion = client.chat.completions.create(\n",
        "  model=\"gpt-3.5-turbo\",\n",
        "  messages=[\n",
        "    {\"role\": \"system\", \"content\": \"You are a helpful assistant.\"},\n",
        "    {\"role\": \"user\", \"content\": \"Hello!\"}\n",
        "  ],\n",
        "  #stream=True\n",
        ")\n",
        "\n",
        "print(completion.choices[0].message.content)\n",
        "print(\"Total tokens: \"+str(completion.usage.total_tokens))\n",
        "print(\"Completion tokens: \"+str(completion.usage.completion_tokens))\n",
        "print(\"Prompt tokens: \"+str(completion.usage.prompt_tokens))\n",
        "#for chunk in completion:\n",
        "#  print(chunk.choices[0].delta)\n"
      ],
      "metadata": {
        "colab": {
          "base_uri": "https://localhost:8080/"
        },
        "outputId": "e3237235-6fe4-4edd-9125-2f8f2853b01e",
        "id": "Lf0Zf5csuYfj",
        "collapsed": true,
        "cellView": "form"
      },
      "execution_count": null,
      "outputs": [
        {
          "output_type": "stream",
          "name": "stdout",
          "text": [
            "Hello! How can I help you today?\n",
            "Total tokens: 28\n",
            "Completion tokens: 9\n",
            "Prompt tokens: 19\n"
          ]
        }
      ]
    }
  ]
}